{
 "cells": [
  {
   "cell_type": "code",
   "execution_count": 1,
   "metadata": {},
   "outputs": [],
   "source": [
    "import pandas as pd\n",
    "import numpy as np\n",
    "import re\n",
    "import datetime\n",
    "import math"
   ]
  },
  {
   "cell_type": "code",
   "execution_count": 2,
   "metadata": {},
   "outputs": [],
   "source": [
    "file=open(r'C:\\Users\\s156924\\Documents\\Personal\\DS\\AoC Day5.txt','r')"
   ]
  },
  {
   "cell_type": "code",
   "execution_count": 3,
   "metadata": {},
   "outputs": [],
   "source": [
    "#creating list with all possible ids\n",
    "all_seat_ids=[]\n",
    "for row in np.arange(128):\n",
    "    for seat in np.arange(8):\n",
    "        all_seat_ids.append(seat+row*8)"
   ]
  },
  {
   "cell_type": "code",
   "execution_count": 4,
   "metadata": {},
   "outputs": [],
   "source": [
    "#storing file as a list\n",
    "file_list=file.readlines()"
   ]
  },
  {
   "cell_type": "code",
   "execution_count": 5,
   "metadata": {},
   "outputs": [],
   "source": [
    "#creating object to read in boarding pass id with methods to convert letters showing row to row no.\n",
    "#and to convert letters showing seat to seat no.\n",
    "class check_boarding:\n",
    "    def __init__(self,boarding_no):\n",
    "        self.boarding_no=boarding_no\n",
    "        self.upper_row=127\n",
    "        self.lower_row=0\n",
    "        self.lower_seat=0\n",
    "        self.upper_seat=7\n",
    "    \n",
    "    def check_row(self):\n",
    "        for num in np.arange(len(self.boarding_no)-3):\n",
    "            adj=math.floor(self.upper_row-self.lower_row)/2\n",
    "            if self.boarding_no[num]=='F':\n",
    "                self.upper_row=math.floor(self.lower_row+adj)\n",
    "            elif self.boarding_no[num]=='B':\n",
    "                self.lower_row=math.ceil(self.upper_row-adj)        \n",
    "        return self.upper_row\n",
    "    \n",
    "    def check_seat(self):\n",
    "        seat_nos=self.boarding_no[-3:]\n",
    "        for seat in seat_nos:\n",
    "            adj=(self.upper_seat-self.lower_seat)/2\n",
    "            if seat=='R':\n",
    "                self.lower_seat=self.lower_seat+math.ceil(adj)\n",
    "            elif seat=='L':\n",
    "                self.upper_seat=self.upper_seat-math.ceil(adj) \n",
    "        return self.lower_seat"
   ]
  },
  {
   "cell_type": "code",
   "execution_count": 6,
   "metadata": {},
   "outputs": [],
   "source": [
    "#empty list to store seat_ids of the boarding passes found\n",
    "found_seat_ids=[]"
   ]
  },
  {
   "cell_type": "code",
   "execution_count": 7,
   "metadata": {},
   "outputs": [],
   "source": [
    "#creating list with seat ids of boarding passes found by coverting seat no and row no into seat id \n",
    "for line in file_list:\n",
    "    x=check_boarding(line[:-1])\n",
    "    seat_no=x.check_seat()\n",
    "    row_no=x.check_row()\n",
    "    found_seat_ids.append(row_no*8+seat_no)"
   ]
  },
  {
   "cell_type": "code",
   "execution_count": 8,
   "metadata": {},
   "outputs": [],
   "source": [
    "#removing seat ids found (in found_seat_ids) from all_seats_ids to get only remaining seat ids\n",
    "for num in found_seat_ids:\n",
    "    if num in all_seat_ids:\n",
    "        all_seat_ids.remove(num)"
   ]
  },
  {
   "cell_type": "code",
   "execution_count": 9,
   "metadata": {},
   "outputs": [
    {
     "data": {
      "text/plain": [
       "944"
      ]
     },
     "execution_count": 9,
     "metadata": {},
     "output_type": "execute_result"
    }
   ],
   "source": [
    "#finding highest seat id\n",
    "max(found_seat_ids)"
   ]
  },
  {
   "cell_type": "code",
   "execution_count": 10,
   "metadata": {},
   "outputs": [
    {
     "name": "stdout",
     "output_type": "stream",
     "text": [
      "[554]\n"
     ]
    }
   ],
   "source": [
    "#removing seats in front and back rows from all_seat_ids to find seat with\n",
    "#3 consecutive seats in found_seat_ids  \n",
    "turns=0\n",
    "front_row,back_row=0,127\n",
    "count=0\n",
    "while count!=1:\n",
    "    very_front_seats,very_back_seats=[],[]\n",
    "    #seat ids of front and back rows\n",
    "    very_front_seats=[front_row*8+ i for i in range(0,8)]\n",
    "    very_back_seats=[back_row*8+ i for i in range(0,8)]\n",
    "\n",
    "    #removing ids in front and back rows from all_seat_ids\n",
    "    for row in [very_front_seats,very_back_seats]:\n",
    "        for seat in row:\n",
    "            if seat in all_seat_ids:\n",
    "                all_seat_ids.remove(seat)\n",
    "    count=0\n",
    "    #counting how many 3 consecutive seat_ids are remaining\n",
    "    for seat in all_seat_ids:\n",
    "        if (seat+1) in found_seat_ids and (seat-1) in found_seat_ids:\n",
    "            count+=1\n",
    "    if count==1:\n",
    "        break\n",
    "    elif count==0:\n",
    "        count=1\n",
    "        break\n",
    "    else:\n",
    "        front_row+=1\n",
    "        back_row-=1\n",
    "    turns+=1\n",
    "print(all_seat_ids)"
   ]
  },
  {
   "cell_type": "code",
   "execution_count": null,
   "metadata": {},
   "outputs": [],
   "source": []
  },
  {
   "cell_type": "code",
   "execution_count": null,
   "metadata": {},
   "outputs": [],
   "source": []
  },
  {
   "cell_type": "code",
   "execution_count": null,
   "metadata": {},
   "outputs": [],
   "source": []
  },
  {
   "cell_type": "code",
   "execution_count": null,
   "metadata": {},
   "outputs": [],
   "source": []
  },
  {
   "cell_type": "code",
   "execution_count": null,
   "metadata": {},
   "outputs": [],
   "source": []
  },
  {
   "cell_type": "code",
   "execution_count": null,
   "metadata": {},
   "outputs": [],
   "source": []
  },
  {
   "cell_type": "code",
   "execution_count": null,
   "metadata": {},
   "outputs": [],
   "source": []
  },
  {
   "cell_type": "code",
   "execution_count": null,
   "metadata": {},
   "outputs": [],
   "source": []
  },
  {
   "cell_type": "code",
   "execution_count": null,
   "metadata": {},
   "outputs": [],
   "source": []
  },
  {
   "cell_type": "code",
   "execution_count": null,
   "metadata": {},
   "outputs": [],
   "source": []
  },
  {
   "cell_type": "code",
   "execution_count": null,
   "metadata": {},
   "outputs": [],
   "source": []
  },
  {
   "cell_type": "code",
   "execution_count": null,
   "metadata": {},
   "outputs": [],
   "source": []
  },
  {
   "cell_type": "code",
   "execution_count": null,
   "metadata": {},
   "outputs": [],
   "source": []
  },
  {
   "cell_type": "code",
   "execution_count": null,
   "metadata": {},
   "outputs": [],
   "source": []
  },
  {
   "cell_type": "code",
   "execution_count": null,
   "metadata": {},
   "outputs": [],
   "source": []
  },
  {
   "cell_type": "code",
   "execution_count": null,
   "metadata": {},
   "outputs": [],
   "source": []
  },
  {
   "cell_type": "code",
   "execution_count": null,
   "metadata": {},
   "outputs": [],
   "source": []
  },
  {
   "cell_type": "code",
   "execution_count": null,
   "metadata": {},
   "outputs": [],
   "source": []
  },
  {
   "cell_type": "code",
   "execution_count": null,
   "metadata": {},
   "outputs": [],
   "source": []
  },
  {
   "cell_type": "code",
   "execution_count": null,
   "metadata": {},
   "outputs": [],
   "source": []
  },
  {
   "cell_type": "code",
   "execution_count": null,
   "metadata": {},
   "outputs": [],
   "source": []
  },
  {
   "cell_type": "code",
   "execution_count": null,
   "metadata": {},
   "outputs": [],
   "source": []
  }
 ],
 "metadata": {
  "kernelspec": {
   "display_name": "Python 3",
   "language": "python",
   "name": "python3"
  },
  "language_info": {
   "codemirror_mode": {
    "name": "ipython",
    "version": 3
   },
   "file_extension": ".py",
   "mimetype": "text/x-python",
   "name": "python",
   "nbconvert_exporter": "python",
   "pygments_lexer": "ipython3",
   "version": "3.7.3"
  }
 },
 "nbformat": 4,
 "nbformat_minor": 2
}
